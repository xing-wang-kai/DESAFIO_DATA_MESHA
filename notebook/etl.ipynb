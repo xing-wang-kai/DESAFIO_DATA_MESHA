{
 "cells": [
  {
   "cell_type": "markdown",
   "metadata": {},
   "source": [
    "## PROJETO ETL ENEM\n",
    "___\n",
    "#### Responder às seguintes perguntas:\n",
    "1. Qual a escola com a maior média de notas?\n",
    "2. Qual o aluno com a maior média de notas e o valor dessa média?\n",
    "3. Qual a média geral?\n",
    "4. Qual o % de Ausentes?\n",
    "5. Qual o número total de Inscritos?\n",
    "6. Qual a média por disciplina?\n",
    "7. Qual a média por Sexo?\n",
    "8. Qual a média por Etnia?"
   ]
  },
  {
   "cell_type": "code",
   "execution_count": 1,
   "metadata": {},
   "outputs": [
    {
     "name": "stdout",
     "output_type": "stream",
     "text": [
      "Note: you may need to restart the kernel to use updated packages.\n"
     ]
    },
    {
     "name": "stderr",
     "output_type": "stream",
     "text": [
      "O sistema n o pode encontrar o caminho especificado.\n"
     ]
    },
    {
     "name": "stdout",
     "output_type": "stream",
     "text": [
      "Note: you may need to restart the kernel to use updated packages.\n"
     ]
    },
    {
     "name": "stderr",
     "output_type": "stream",
     "text": [
      "O sistema n o pode encontrar o caminho especificado.\n"
     ]
    },
    {
     "name": "stdout",
     "output_type": "stream",
     "text": [
      "Note: you may need to restart the kernel to use updated packages.\n"
     ]
    },
    {
     "name": "stderr",
     "output_type": "stream",
     "text": [
      "O sistema n o pode encontrar o caminho especificado.\n"
     ]
    },
    {
     "name": "stdout",
     "output_type": "stream",
     "text": [
      "Note: you may need to restart the kernel to use updated packages.\n"
     ]
    },
    {
     "name": "stderr",
     "output_type": "stream",
     "text": [
      "O sistema n o pode encontrar o caminho especificado.\n"
     ]
    },
    {
     "name": "stdout",
     "output_type": "stream",
     "text": [
      "Note: you may need to restart the kernel to use updated packages.\n"
     ]
    },
    {
     "name": "stderr",
     "output_type": "stream",
     "text": [
      "O sistema n o pode encontrar o caminho especificado.\n"
     ]
    },
    {
     "name": "stdout",
     "output_type": "stream",
     "text": [
      "Note: you may need to restart the kernel to use updated packages.\n"
     ]
    },
    {
     "name": "stderr",
     "output_type": "stream",
     "text": [
      "O sistema n o pode encontrar o caminho especificado.\n"
     ]
    },
    {
     "name": "stdout",
     "output_type": "stream",
     "text": [
      "Note: you may need to restart the kernel to use updated packages.\n"
     ]
    },
    {
     "name": "stderr",
     "output_type": "stream",
     "text": [
      "O sistema n o pode encontrar o caminho especificado.\n"
     ]
    }
   ],
   "source": [
    "%pip install pyspark > /dev/null\n",
    "%pip install mysql-connector-python > /dev/null\n",
    "%pip install findspark > /dev/null\n",
    "%pip install sqlalchemy > /dev/null\n",
    "%pip install pandas > /dev/null\n",
    "%pip install setuptools > /dev/null\n",
    "%pip install findspark > /dev/null\n",
    " "
   ]
  },
  {
   "cell_type": "code",
   "execution_count": 2,
   "metadata": {},
   "outputs": [],
   "source": [
    "from pyspark.sql import SparkSession\n",
    "from pyspark.sql.functions import col\n",
    "import pandas as pd\n",
    "import findspark\n",
    "from pyspark.sql import functions as f\n",
    "import os\n",
    "import mysql.connector\n",
    "from uteis.ETL import ETL\n",
    "from uteis.load_to_database import load_to_mysql\n",
    "from uteis.answer import Answer"
   ]
  },
  {
   "cell_type": "code",
   "execution_count": 3,
   "metadata": {},
   "outputs": [],
   "source": [
    "findspark.init()"
   ]
  },
  {
   "cell_type": "code",
   "execution_count": 4,
   "metadata": {},
   "outputs": [],
   "source": [
    "os.environ[\"HADOOP_HOME\"] = r\"C:\\hadoop-3.3.6\"\n",
    "os.environ[\"hadoop.home.dir\"] = r\"C:\\hadoop-3.3.6\""
   ]
  },
  {
   "cell_type": "code",
   "execution_count": 5,
   "metadata": {},
   "outputs": [],
   "source": [
    "spark = SparkSession.builder \\\n",
    "    .appName(\"ENEM ETL\") \\\n",
    "    .config(\"spark.driver.memory\", \"8g\")\\\n",
    "    .config(\"spark.jars\", \"mysql-connector-java-8.0.26.jar\") \\\n",
    "    .getOrCreate()"
   ]
  },
  {
   "cell_type": "code",
   "execution_count": 6,
   "metadata": {},
   "outputs": [
    {
     "data": {
      "text/html": [
       "\n",
       "            <div>\n",
       "                <p><b>SparkSession - in-memory</b></p>\n",
       "                \n",
       "        <div>\n",
       "            <p><b>SparkContext</b></p>\n",
       "\n",
       "            <p><a href=\"http://192.168.2.1:4040\">Spark UI</a></p>\n",
       "\n",
       "            <dl>\n",
       "              <dt>Version</dt>\n",
       "                <dd><code>v3.5.5</code></dd>\n",
       "              <dt>Master</dt>\n",
       "                <dd><code>local[*]</code></dd>\n",
       "              <dt>AppName</dt>\n",
       "                <dd><code>ENEM ETL</code></dd>\n",
       "            </dl>\n",
       "        </div>\n",
       "        \n",
       "            </div>\n",
       "        "
      ],
      "text/plain": [
       "<pyspark.sql.session.SparkSession at 0x1946a9634a0>"
      ]
     },
     "execution_count": 6,
     "metadata": {},
     "output_type": "execute_result"
    }
   ],
   "source": [
    "spark"
   ]
  },
  {
   "cell_type": "code",
   "execution_count": 7,
   "metadata": {},
   "outputs": [],
   "source": [
    "etl = ETL()"
   ]
  },
  {
   "cell_type": "markdown",
   "metadata": {},
   "source": [
    "## ETL\n",
    "\n",
    "### EXTRACT"
   ]
  },
  {
   "cell_type": "code",
   "execution_count": 8,
   "metadata": {},
   "outputs": [],
   "source": [
    "\n",
    "file_path = r\"..\\database\\raw\\MICRODADOS_ENEM_2020.csv\"\n",
    "df = etl.extract(spark, file_path)"
   ]
  },
  {
   "cell_type": "code",
   "execution_count": 9,
   "metadata": {},
   "outputs": [
    {
     "name": "stdout",
     "output_type": "stream",
     "text": [
      "+------------+------+---------------+-------+---------------+-----------+----------------+---------------+---------------+---------+---------+------------+----------------+-------------------+---------+---------+----------------------+------------------+---------------+------------------+--------------------+-----------+-----------+--------------+--------------+--------------+--------------+-----------+-----------+-----------+-----------+----------+----------+----------+----------+--------------------+--------------------+--------------------+--------------------+---------+--------------------+--------------------+--------------------+--------------------+-----------------+-------------+-------------+-------------+-------------+-------------+---------------+----+----+----+----+----+----+----+----+----+----+----+----+----+----+----+----+----+----+----+----+----+----+----+----+----+\n",
      "|NU_INSCRICAO|NU_ANO|TP_FAIXA_ETARIA|TP_SEXO|TP_ESTADO_CIVIL|TP_COR_RACA|TP_NACIONALIDADE|TP_ST_CONCLUSAO|TP_ANO_CONCLUIU|TP_ESCOLA|TP_ENSINO|IN_TREINEIRO|CO_MUNICIPIO_ESC|   NO_MUNICIPIO_ESC|CO_UF_ESC|SG_UF_ESC|TP_DEPENDENCIA_ADM_ESC|TP_LOCALIZACAO_ESC|TP_SIT_FUNC_ESC|CO_MUNICIPIO_PROVA|  NO_MUNICIPIO_PROVA|CO_UF_PROVA|SG_UF_PROVA|TP_PRESENCA_CN|TP_PRESENCA_CH|TP_PRESENCA_LC|TP_PRESENCA_MT|CO_PROVA_CN|CO_PROVA_CH|CO_PROVA_LC|CO_PROVA_MT|NU_NOTA_CN|NU_NOTA_CH|NU_NOTA_LC|NU_NOTA_MT|     TX_RESPOSTAS_CN|     TX_RESPOSTAS_CH|     TX_RESPOSTAS_LC|     TX_RESPOSTAS_MT|TP_LINGUA|      TX_GABARITO_CN|      TX_GABARITO_CH|      TX_GABARITO_LC|      TX_GABARITO_MT|TP_STATUS_REDACAO|NU_NOTA_COMP1|NU_NOTA_COMP2|NU_NOTA_COMP3|NU_NOTA_COMP4|NU_NOTA_COMP5|NU_NOTA_REDACAO|Q001|Q002|Q003|Q004|Q005|Q006|Q007|Q008|Q009|Q010|Q011|Q012|Q013|Q014|Q015|Q016|Q017|Q018|Q019|Q020|Q021|Q022|Q023|Q024|Q025|\n",
      "+------------+------+---------------+-------+---------------+-----------+----------------+---------------+---------------+---------+---------+------------+----------------+-------------------+---------+---------+----------------------+------------------+---------------+------------------+--------------------+-----------+-----------+--------------+--------------+--------------+--------------+-----------+-----------+-----------+-----------+----------+----------+----------+----------+--------------------+--------------------+--------------------+--------------------+---------+--------------------+--------------------+--------------------+--------------------+-----------------+-------------+-------------+-------------+-------------+-------------+---------------+----+----+----+----+----+----+----+----+----+----+----+----+----+----+----+----+----+----+----+----+----+----+----+----+----+\n",
      "|200006271946|  2020|             11|      F|              1|          2|               1|              1|             11|        1|     NULL|           0|            NULL|               NULL|     NULL|     NULL|                  NULL|              NULL|           NULL|           1501402|               Belém|         15|         PA|             0|             0|             0|             0|       NULL|       NULL|       NULL|       NULL|      NULL|      NULL|      NULL|      NULL|                NULL|                NULL|                NULL|                NULL|        1|                NULL|                NULL|                NULL|                NULL|             NULL|         NULL|         NULL|         NULL|         NULL|         NULL|           NULL|NULL|NULL|NULL|NULL|NULL|NULL|NULL|NULL|NULL|NULL|NULL|NULL|NULL|NULL|NULL|NULL|NULL|NULL|NULL|NULL|NULL|NULL|NULL|NULL|NULL|\n",
      "|200001195856|  2020|             11|      M|              2|          3|               1|              1|             11|        1|     NULL|           0|            NULL|               NULL|     NULL|     NULL|                  NULL|              NULL|           NULL|           2408102|               Natal|         24|         RN|             1|             1|             1|             1|        702|        689|        693|        698|     604.1|     661.7|     595.3|     711.3|BCBDBDCCCDBDDBADE...|BCAECABCDCEBDBBBD...|99999CADDEDADBAAB...|EBEBDEDAECBADCADD...|        1|ABBACBCCCDDDDBAEE...|BCEECDBCCDEBDBBBB...|99999CBDDEDBDBACE...|BBEADECAECBBXCEBA...|                1|          120|          120|          120|          120|          100|            580|NULL|NULL|NULL|NULL|NULL|NULL|NULL|NULL|NULL|NULL|NULL|NULL|NULL|NULL|NULL|NULL|NULL|NULL|NULL|NULL|NULL|NULL|NULL|NULL|NULL|\n",
      "|200001943954|  2020|              4|      F|              2|          3|               2|              2|              0|        2|        1|           0|         2927408|           Salvador|       29|       BA|                     2|                 1|              1|           2927408|            Salvador|         29|         BA|             0|             0|             0|             0|       NULL|       NULL|       NULL|       NULL|      NULL|      NULL|      NULL|      NULL|                NULL|                NULL|                NULL|                NULL|        0|                NULL|                NULL|                NULL|                NULL|             NULL|         NULL|         NULL|         NULL|         NULL|         NULL|           NULL|   B|   C|   A|   D|   3|   B|   A|   B|   A|   A|   A|   B|   A|   B|   A|   B|   A|   A|   B|   A|   A|   A|   A|   A|   A|\n",
      "|200001908998|  2020|              2|      M|              1|          3|               1|              2|              0|        2|        1|           0|         3547304|Santana de Parnaíba|       35|       SP|                     3|                 1|              1|           3547304| Santana de Parnaíba|         35|         SP|             1|             1|             1|             1|        700|        688|        692|        696|     620.8|       675|     624.2|     759.4|EBEDCCCDCBDBAECAE...|DABCCACCBCCDCADBD...|DCEAB99999AADAECC...|CBDBDCCDDEECBAABB...|        0|BDECCACBEBDEAEDAE...|DABCCAECBABECADBD...|DCEAD99999AADACCC...|EBDBXCCDAEECBAABA...|                1|          140|          200|          140|          120|          160|            760|NULL|NULL|NULL|NULL|NULL|NULL|NULL|NULL|NULL|NULL|NULL|NULL|NULL|NULL|NULL|NULL|NULL|NULL|NULL|NULL|NULL|NULL|NULL|NULL|NULL|\n",
      "|200001634757|  2020|              4|      F|              1|          3|               2|              1|              1|        1|     NULL|           0|            NULL|               NULL|     NULL|     NULL|                  NULL|              NULL|           NULL|           3121605|          Diamantina|         31|         MG|             0|             0|             0|             0|       NULL|       NULL|       NULL|       NULL|      NULL|      NULL|      NULL|      NULL|                NULL|                NULL|                NULL|                NULL|        1|                NULL|                NULL|                NULL|                NULL|             NULL|         NULL|         NULL|         NULL|         NULL|         NULL|           NULL|   B|   G|   B|   B|   3|   B|   A|   B|   D|   A|   A|   B|   A|   B|   A|   A|   A|   A|   B|   A|   B|   B|   A|   A|   B|\n",
      "|200003132410|  2020|              3|      F|              1|          3|               1|              1|              1|        1|     NULL|           0|            NULL|               NULL|     NULL|     NULL|                  NULL|              NULL|           NULL|           4305207|         Cerro Largo|         43|         RS|             1|             1|             1|             1|        598|        567|        577|        588|     498.1|     604.7|     505.4|     526.7|CABBEEACAEBEBCCDA...|ACEBBDDCADDAACEEA...|99999CBECEBEDBEEC...|BADCAAAEEDBEDBACE...|        1|CEDBDDDCACCBDAEBA...|DABCBDDDAEDBECECB...|AAEDCACEEECEAACBA...|AEBCCXCCCACCDABCC...|                1|          140|          120|          140|          140|          160|            700|   C|   B|   C|   B|   5|   C|   A|   B|   E|   A|   A|   B|   A|   A|   A|   B|   A|   A|   B|   B|   A|   D|   A|   B|   B|\n",
      "|200001379770|  2020|              9|      M|              1|          3|               1|              1|              6|        1|     NULL|           0|            NULL|               NULL|     NULL|     NULL|                  NULL|              NULL|           NULL|           2611606|              Recife|         26|         PE|             0|             0|             0|             0|       NULL|       NULL|       NULL|       NULL|      NULL|      NULL|      NULL|      NULL|                NULL|                NULL|                NULL|                NULL|        0|                NULL|                NULL|                NULL|                NULL|             NULL|         NULL|         NULL|         NULL|         NULL|         NULL|           NULL|NULL|NULL|NULL|NULL|NULL|NULL|NULL|NULL|NULL|NULL|NULL|NULL|NULL|NULL|NULL|NULL|NULL|NULL|NULL|NULL|NULL|NULL|NULL|NULL|NULL|\n",
      "|200001334237|  2020|              4|      M|              1|          1|               1|              1|              1|        1|     NULL|           0|            NULL|               NULL|     NULL|     NULL|                  NULL|              NULL|           NULL|           3550308|           São Paulo|         35|         SP|             1|             1|             1|             1|        699|        687|        691|        695|     604.6|     604.8|     562.1|     753.2|CECACBBCADACADDEE...|EAADABBEABCADDBAA...|CADDE99999AEEADBA...|BABADDBDAEBAEBBBE...|        0|DEAAECBBCDCBAEBEE...|EAAADBBEDBDACDBCC...|CADDE99999DEBBBBB...|BABBDABAEEBACBACD...|                1|          140|          120|          120|          120|          100|            600|NULL|NULL|NULL|NULL|NULL|NULL|NULL|NULL|NULL|NULL|NULL|NULL|NULL|NULL|NULL|NULL|NULL|NULL|NULL|NULL|NULL|NULL|NULL|NULL|NULL|\n",
      "|200006762554|  2020|              5|      F|              2|          3|               1|              1|              3|        1|     NULL|           0|            NULL|               NULL|     NULL|     NULL|                  NULL|              NULL|           NULL|           2507507|         João Pessoa|         25|         PB|             1|             1|             1|             1|        598|        567|        577|        588|     439.7|     383.5|     486.2|     448.5|DABCDCAEDEDCBEDCD...|ECCAEAEACDDABCBDA...|99999DDCBBABECCAC...|EEDCCEACEBAAAADCD...|        1|CEDBDDDCACCBDAEBA...|DABCBDDDAEDBECECB...|AAEDCACEEECEAACBA...|AEBCCXCCCACCDABCC...|                1|          120|          120|          120|          140|          100|            600|   B|   C|   C|   B|   2|   B|   A|   B|   C|   A|   A|   B|   A|   B|   A|   A|   A|   A|   B|   A|   A|   C|   A|   A|   A|\n",
      "|200005146210|  2020|              2|      M|              1|          2|               1|              2|              0|        2|        1|           0|            NULL|               NULL|     NULL|     NULL|                  NULL|              NULL|           NULL|           2304400|           Fortaleza|         23|         CE|             0|             0|             0|             0|       NULL|       NULL|       NULL|       NULL|      NULL|      NULL|      NULL|      NULL|                NULL|                NULL|                NULL|                NULL|        0|                NULL|                NULL|                NULL|                NULL|             NULL|         NULL|         NULL|         NULL|         NULL|         NULL|           NULL|   A|   A|   B|   A|   4|   B|   A|   B|   B|   A|   A|   B|   A|   A|   A|   A|   A|   A|   B|   A|   A|   A|   A|   A|   B|\n",
      "|200004902048|  2020|              6|      M|              1|          1|               1|              1|              3|        1|     NULL|           0|            NULL|               NULL|     NULL|     NULL|                  NULL|              NULL|           NULL|           3550308|           São Paulo|         35|         SP|             0|             0|             0|             0|       NULL|       NULL|       NULL|       NULL|      NULL|      NULL|      NULL|      NULL|                NULL|                NULL|                NULL|                NULL|        0|                NULL|                NULL|                NULL|                NULL|             NULL|         NULL|         NULL|         NULL|         NULL|         NULL|           NULL|   B|   B|   B|   B|   7|   B|   A|   B|   C|   A|   A|   B|   A|   A|   A|   B|   A|   A|   B|   A|   A|   C|   B|   B|   B|\n",
      "|200006138472|  2020|              7|      M|              1|          1|               1|              1|              0|        1|     NULL|           0|            NULL|               NULL|     NULL|     NULL|                  NULL|              NULL|           NULL|           2910727|           Eunápolis|         29|         BA|             1|             1|             1|             1|        598|        567|        577|        588|     491.1|     631.4|     627.9|     546.5|BAEACEDBACDDEDECE...|CDEABDDDABDBEABCA...|AACDC99999ABDBEDA...|EBCDBEBABDBBDABCB...|        0|CEDBDDDCACCBDAEBA...|DABCBDDDAEDBECECB...|AAEDCACEEECEAACBA...|AEBCCXCCCACCDABCC...|                1|          140|          120|          140|          120|          120|            640|   B|   C|   C|   B|   5|   B|   A|   B|   C|   A|   A|   B|   A|   A|   A|   A|   B|   A|   B|   A|   A|   C|   A|   B|   B|\n",
      "|200005613689|  2020|              3|      F|              1|          3|               1|              1|              1|        1|     NULL|           0|            NULL|               NULL|     NULL|     NULL|                  NULL|              NULL|           NULL|           5008305|         Três Lagoas|         50|         MS|             0|             0|             0|             0|       NULL|       NULL|       NULL|       NULL|      NULL|      NULL|      NULL|      NULL|                NULL|                NULL|                NULL|                NULL|        0|                NULL|                NULL|                NULL|                NULL|             NULL|         NULL|         NULL|         NULL|         NULL|         NULL|           NULL|   D|   E|   A|   A|   3|   B|   A|   B|   C|   A|   A|   B|   A|   A|   A|   A|   A|   A|   A|   A|   A|   C|   A|   A|   A|\n",
      "|200004833505|  2020|             11|      F|              2|          2|               1|              1|             12|        1|     NULL|           0|            NULL|               NULL|     NULL|     NULL|                  NULL|              NULL|           NULL|           3547809|         Santo André|         35|         SP|             0|             0|             0|             0|       NULL|       NULL|       NULL|       NULL|      NULL|      NULL|      NULL|      NULL|                NULL|                NULL|                NULL|                NULL|        1|                NULL|                NULL|                NULL|                NULL|             NULL|         NULL|         NULL|         NULL|         NULL|         NULL|           NULL|NULL|NULL|NULL|NULL|NULL|NULL|NULL|NULL|NULL|NULL|NULL|NULL|NULL|NULL|NULL|NULL|NULL|NULL|NULL|NULL|NULL|NULL|NULL|NULL|NULL|\n",
      "|200004570764|  2020|             11|      M|              1|          2|               1|              1|              0|        1|     NULL|           0|            NULL|               NULL|     NULL|     NULL|                  NULL|              NULL|           NULL|           2604007|             Carpina|         26|         PE|             0|             0|             0|             0|       NULL|       NULL|       NULL|       NULL|      NULL|      NULL|      NULL|      NULL|                NULL|                NULL|                NULL|                NULL|        1|                NULL|                NULL|                NULL|                NULL|             NULL|         NULL|         NULL|         NULL|         NULL|         NULL|           NULL|   H|   B|   F|   B|   3|   B|   A|   C|   D|   A|   A|   B|   A|   A|   A|   A|   A|   A|   B|   A|   A|   B|   A|   B|   B|\n",
      "|200001071590|  2020|              5|      F|              1|          3|               1|              1|              0|        1|     NULL|           0|            NULL|               NULL|     NULL|     NULL|                  NULL|              NULL|           NULL|           2800308|             Aracaju|         28|         SE|             0|             0|             0|             0|       NULL|       NULL|       NULL|       NULL|      NULL|      NULL|      NULL|      NULL|                NULL|                NULL|                NULL|                NULL|        1|                NULL|                NULL|                NULL|                NULL|             NULL|         NULL|         NULL|         NULL|         NULL|         NULL|           NULL|NULL|NULL|NULL|NULL|NULL|NULL|NULL|NULL|NULL|NULL|NULL|NULL|NULL|NULL|NULL|NULL|NULL|NULL|NULL|NULL|NULL|NULL|NULL|NULL|NULL|\n",
      "|200001934470|  2020|              7|      F|              1|          3|               1|              1|              4|        1|     NULL|           0|            NULL|               NULL|     NULL|     NULL|                  NULL|              NULL|           NULL|           2933307|Vitória da Conquista|         29|         BA|             0|             0|             0|             0|       NULL|       NULL|       NULL|       NULL|      NULL|      NULL|      NULL|      NULL|                NULL|                NULL|                NULL|                NULL|        1|                NULL|                NULL|                NULL|                NULL|             NULL|         NULL|         NULL|         NULL|         NULL|         NULL|           NULL|   A|   B|   F|   F|   3|   B|   A|   B|   C|   A|   A|   B|   B|   A|   A|   A|   A|   A|   B|   A|   A|   C|   A|   B|   B|\n",
      "|200006066678|  2020|              4|      M|              1|          1|               1|              1|              1|        1|     NULL|           0|            NULL|               NULL|     NULL|     NULL|                  NULL|              NULL|           NULL|           4106902|            Curitiba|         41|         PR|             0|             0|             0|             0|       NULL|       NULL|       NULL|       NULL|      NULL|      NULL|      NULL|      NULL|                NULL|                NULL|                NULL|                NULL|        0|                NULL|                NULL|                NULL|                NULL|             NULL|         NULL|         NULL|         NULL|         NULL|         NULL|           NULL|NULL|NULL|NULL|NULL|NULL|NULL|NULL|NULL|NULL|NULL|NULL|NULL|NULL|NULL|NULL|NULL|NULL|NULL|NULL|NULL|NULL|NULL|NULL|NULL|NULL|\n",
      "|200003343448|  2020|              7|      F|              1|          3|               1|              1|              3|        1|     NULL|           0|            NULL|               NULL|     NULL|     NULL|                  NULL|              NULL|           NULL|           2704302|              Maceió|         27|         AL|             1|             1|             1|             1|        597|        569|        580|        587|     422.4|     488.1|     559.1|     420.3|BDCEDABCECACBDCBB...|CAEADAEEDEDBDDCAB...|CADAA99999ABCBEBD...|BBCCDBEADABBE*CED...|        0|DDBACBDDDECDAEDCC...|DECCADEBDECBBECDD...|DCEAAEEEACAACBBEB...|DABCCAEDBBCCCABCA...|                1|          140|          180|          140|          160|          180|            800|   C|   C|   C|   B|   2|   B|   A|   B|   C|   A|   A|   B|   A|   A|   A|   A|   A|   A|   B|   B|   A|   C|   A|   B|   B|\n",
      "|200005966328|  2020|             13|      M|              1|          2|               1|              1|              0|        1|     NULL|           0|            NULL|               NULL|     NULL|     NULL|                  NULL|              NULL|           NULL|           1501402|               Belém|         15|         PA|             1|             1|             1|             1|        600|        570|        579|        589|       486|     503.3|     439.8|     405.6|DBEBBBCCDCBCAEBAE...|BABAEABBEDBDCDBBE...|99999EAADBDAABCBD...|BBAADDCCEABAAEBBA...|        1|DCDXDCCAEBADCBAAE...|BDDBECECBACDBDEEB...|AACDEEEECADBBCAAA...|BAECDBBXCCCBDBACC...|                1|          100|          100|          120|          100|           80|            500|   C|   D|   C|   C|   5|   D|   A|   C|   C|   A|   A|   B|   A|   A|   A|   A|   A|   A|   B|   B|   A|   C|   A|   A|   A|\n",
      "+------------+------+---------------+-------+---------------+-----------+----------------+---------------+---------------+---------+---------+------------+----------------+-------------------+---------+---------+----------------------+------------------+---------------+------------------+--------------------+-----------+-----------+--------------+--------------+--------------+--------------+-----------+-----------+-----------+-----------+----------+----------+----------+----------+--------------------+--------------------+--------------------+--------------------+---------+--------------------+--------------------+--------------------+--------------------+-----------------+-------------+-------------+-------------+-------------+-------------+---------------+----+----+----+----+----+----+----+----+----+----+----+----+----+----+----+----+----+----+----+----+----+----+----+----+----+\n",
      "only showing top 20 rows\n",
      "\n"
     ]
    }
   ],
   "source": [
    "df.show()"
   ]
  },
  {
   "cell_type": "code",
   "execution_count": 10,
   "metadata": {},
   "outputs": [
    {
     "name": "stdout",
     "output_type": "stream",
     "text": [
      "root\n",
      " |-- NU_INSCRICAO: string (nullable = true)\n",
      " |-- NU_ANO: string (nullable = true)\n",
      " |-- TP_FAIXA_ETARIA: string (nullable = true)\n",
      " |-- TP_SEXO: string (nullable = true)\n",
      " |-- TP_ESTADO_CIVIL: string (nullable = true)\n",
      " |-- TP_COR_RACA: string (nullable = true)\n",
      " |-- TP_NACIONALIDADE: string (nullable = true)\n",
      " |-- TP_ST_CONCLUSAO: string (nullable = true)\n",
      " |-- TP_ANO_CONCLUIU: string (nullable = true)\n",
      " |-- TP_ESCOLA: string (nullable = true)\n",
      " |-- TP_ENSINO: string (nullable = true)\n",
      " |-- IN_TREINEIRO: string (nullable = true)\n",
      " |-- CO_MUNICIPIO_ESC: string (nullable = true)\n",
      " |-- NO_MUNICIPIO_ESC: string (nullable = true)\n",
      " |-- CO_UF_ESC: string (nullable = true)\n",
      " |-- SG_UF_ESC: string (nullable = true)\n",
      " |-- TP_DEPENDENCIA_ADM_ESC: string (nullable = true)\n",
      " |-- TP_LOCALIZACAO_ESC: string (nullable = true)\n",
      " |-- TP_SIT_FUNC_ESC: string (nullable = true)\n",
      " |-- CO_MUNICIPIO_PROVA: string (nullable = true)\n",
      " |-- NO_MUNICIPIO_PROVA: string (nullable = true)\n",
      " |-- CO_UF_PROVA: string (nullable = true)\n",
      " |-- SG_UF_PROVA: string (nullable = true)\n",
      " |-- TP_PRESENCA_CN: string (nullable = true)\n",
      " |-- TP_PRESENCA_CH: string (nullable = true)\n",
      " |-- TP_PRESENCA_LC: string (nullable = true)\n",
      " |-- TP_PRESENCA_MT: string (nullable = true)\n",
      " |-- CO_PROVA_CN: string (nullable = true)\n",
      " |-- CO_PROVA_CH: string (nullable = true)\n",
      " |-- CO_PROVA_LC: string (nullable = true)\n",
      " |-- CO_PROVA_MT: string (nullable = true)\n",
      " |-- NU_NOTA_CN: string (nullable = true)\n",
      " |-- NU_NOTA_CH: string (nullable = true)\n",
      " |-- NU_NOTA_LC: string (nullable = true)\n",
      " |-- NU_NOTA_MT: string (nullable = true)\n",
      " |-- TX_RESPOSTAS_CN: string (nullable = true)\n",
      " |-- TX_RESPOSTAS_CH: string (nullable = true)\n",
      " |-- TX_RESPOSTAS_LC: string (nullable = true)\n",
      " |-- TX_RESPOSTAS_MT: string (nullable = true)\n",
      " |-- TP_LINGUA: string (nullable = true)\n",
      " |-- TX_GABARITO_CN: string (nullable = true)\n",
      " |-- TX_GABARITO_CH: string (nullable = true)\n",
      " |-- TX_GABARITO_LC: string (nullable = true)\n",
      " |-- TX_GABARITO_MT: string (nullable = true)\n",
      " |-- TP_STATUS_REDACAO: string (nullable = true)\n",
      " |-- NU_NOTA_COMP1: string (nullable = true)\n",
      " |-- NU_NOTA_COMP2: string (nullable = true)\n",
      " |-- NU_NOTA_COMP3: string (nullable = true)\n",
      " |-- NU_NOTA_COMP4: string (nullable = true)\n",
      " |-- NU_NOTA_COMP5: string (nullable = true)\n",
      " |-- NU_NOTA_REDACAO: string (nullable = true)\n",
      " |-- Q001: string (nullable = true)\n",
      " |-- Q002: string (nullable = true)\n",
      " |-- Q003: string (nullable = true)\n",
      " |-- Q004: string (nullable = true)\n",
      " |-- Q005: string (nullable = true)\n",
      " |-- Q006: string (nullable = true)\n",
      " |-- Q007: string (nullable = true)\n",
      " |-- Q008: string (nullable = true)\n",
      " |-- Q009: string (nullable = true)\n",
      " |-- Q010: string (nullable = true)\n",
      " |-- Q011: string (nullable = true)\n",
      " |-- Q012: string (nullable = true)\n",
      " |-- Q013: string (nullable = true)\n",
      " |-- Q014: string (nullable = true)\n",
      " |-- Q015: string (nullable = true)\n",
      " |-- Q016: string (nullable = true)\n",
      " |-- Q017: string (nullable = true)\n",
      " |-- Q018: string (nullable = true)\n",
      " |-- Q019: string (nullable = true)\n",
      " |-- Q020: string (nullable = true)\n",
      " |-- Q021: string (nullable = true)\n",
      " |-- Q022: string (nullable = true)\n",
      " |-- Q023: string (nullable = true)\n",
      " |-- Q024: string (nullable = true)\n",
      " |-- Q025: string (nullable = true)\n",
      "\n"
     ]
    }
   ],
   "source": [
    "df.printSchema()"
   ]
  },
  {
   "cell_type": "markdown",
   "metadata": {},
   "source": [
    "### TRANSFORM"
   ]
  },
  {
   "cell_type": "code",
   "execution_count": 11,
   "metadata": {},
   "outputs": [],
   "source": [
    "dim_aluno, dim_escola, dim_municipio, fato_enem = etl.transform(df)"
   ]
  },
  {
   "cell_type": "code",
   "execution_count": 12,
   "metadata": {},
   "outputs": [
    {
     "name": "stdout",
     "output_type": "stream",
     "text": [
      "+----------------+----+-----+------------------+\n",
      "|numero_inscricao|sexo|etnia|situacao_conclusao|\n",
      "+----------------+----+-----+------------------+\n",
      "|    200005909927|   F|    0|                 1|\n",
      "|    200006123011|   F|    1|                 2|\n",
      "|    200006267793|   F|    1|                 1|\n",
      "|    200003990748|   F|    2|                 1|\n",
      "|    200004009640|   F|    3|                 1|\n",
      "|    200002371686|   M|    3|                 1|\n",
      "|    200004571138|   M|    3|                 1|\n",
      "|    200004046927|   M|    1|                 1|\n",
      "|    200003051097|   F|    2|                 1|\n",
      "|    200005983749|   F|    3|                 2|\n",
      "|    200003885791|   F|    3|                 1|\n",
      "|    200002065330|   M|    1|                 1|\n",
      "|    200001510845|   M|    2|                 1|\n",
      "|    200005221474|   F|    2|                 1|\n",
      "|    200004604317|   F|    1|                 2|\n",
      "|    200006546014|   M|    3|                 2|\n",
      "|    200005366948|   M|    3|                 2|\n",
      "|    200001246495|   F|    3|                 2|\n",
      "|    200004891954|   F|    1|                 2|\n",
      "|    200002312476|   F|    3|                 1|\n",
      "+----------------+----+-----+------------------+\n",
      "only showing top 20 rows\n",
      "\n"
     ]
    }
   ],
   "source": [
    "dim_aluno.show()"
   ]
  },
  {
   "cell_type": "code",
   "execution_count": 13,
   "metadata": {},
   "outputs": [
    {
     "name": "stdout",
     "output_type": "stream",
     "text": [
      "+----------------+--------------------+------+\n",
      "|codigo_municipio|       nom_municipio|estado|\n",
      "+----------------+--------------------+------+\n",
      "|         1508209|               Vigia|    PA|\n",
      "|         2411205|          Santa Cruz|    RN|\n",
      "|         2801306|              Capela|    SE|\n",
      "|         4209607|        Lauro Müller|    SC|\n",
      "|         3304300|          Rio Bonito|    RJ|\n",
      "|         2609709|               Orobó|    PE|\n",
      "|         3157203|       Santa Bárbara|    MG|\n",
      "|         2403608|            Extremoz|    RN|\n",
      "|         1505809|              Portel|    PA|\n",
      "|         2505006|              Cubati|    PB|\n",
      "|         3203700|        Muniz Freire|    ES|\n",
      "|         5210000|             Inhumas|    GO|\n",
      "|         4322202|         Tupanciretã|    RS|\n",
      "|         1505486|              Pacajá|    PA|\n",
      "|         2928901|       São Desidério|    BA|\n",
      "|         3108255|     Bonito de Minas|    MG|\n",
      "|         1304237|           Tonantins|    AM|\n",
      "|         4105706|         Clevelândia|    PR|\n",
      "|         5220264|São Miguel do Pas...|    GO|\n",
      "|         3532058|              Motuca|    SP|\n",
      "+----------------+--------------------+------+\n",
      "only showing top 20 rows\n",
      "\n"
     ]
    }
   ],
   "source": [
    "dim_escola.show()"
   ]
  },
  {
   "cell_type": "code",
   "execution_count": 14,
   "metadata": {},
   "outputs": [
    {
     "name": "stdout",
     "output_type": "stream",
     "text": [
      "+----------------+--------------------+------+\n",
      "|codigo_municipio|       nom_municipio|estado|\n",
      "+----------------+--------------------+------+\n",
      "|         1508209|               Vigia|    PA|\n",
      "|         2411205|          Santa Cruz|    RN|\n",
      "|         2801306|              Capela|    SE|\n",
      "|         4209607|        Lauro Müller|    SC|\n",
      "|         3304300|          Rio Bonito|    RJ|\n",
      "|         2609709|               Orobó|    PE|\n",
      "|         3157203|       Santa Bárbara|    MG|\n",
      "|         2403608|            Extremoz|    RN|\n",
      "|         1505809|              Portel|    PA|\n",
      "|         2505006|              Cubati|    PB|\n",
      "|         3203700|        Muniz Freire|    ES|\n",
      "|         5210000|             Inhumas|    GO|\n",
      "|         4322202|         Tupanciretã|    RS|\n",
      "|         1505486|              Pacajá|    PA|\n",
      "|         2928901|       São Desidério|    BA|\n",
      "|         3108255|     Bonito de Minas|    MG|\n",
      "|         1304237|           Tonantins|    AM|\n",
      "|         4105706|         Clevelândia|    PR|\n",
      "|         5220264|São Miguel do Pas...|    GO|\n",
      "|         3532058|              Motuca|    SP|\n",
      "+----------------+--------------------+------+\n",
      "only showing top 20 rows\n",
      "\n"
     ]
    }
   ],
   "source": [
    "dim_municipio.show()"
   ]
  },
  {
   "cell_type": "code",
   "execution_count": 15,
   "metadata": {},
   "outputs": [
    {
     "name": "stdout",
     "output_type": "stream",
     "text": [
      "+----------------+----------------+-------+-------+-------+-------+------------+------------------+-----------+-----------+-----------+-----------+\n",
      "|numero_inscricao|codigo_municipio|nota_CN|nota_CH|nota_LC|nota_MT|nota_redacao|        NOTA_MEDIA|presenca_CN|presenca_CH|presenca_LC|presenca_MT|\n",
      "+----------------+----------------+-------+-------+-------+-------+------------+------------------+-----------+-----------+-----------+-----------+\n",
      "|    200006271946|            NULL|   NULL|   NULL|   NULL|   NULL|        NULL|              NULL|          0|          0|          0|          0|\n",
      "|    200001195856|            NULL|  604.1|  661.7|  595.3|  711.3|         580|            630.48|          1|          1|          1|          1|\n",
      "|    200001943954|         2927408|   NULL|   NULL|   NULL|   NULL|        NULL|              NULL|          0|          0|          0|          0|\n",
      "|    200001908998|         3547304|  620.8|  675.0|  624.2|  759.4|         760| 687.8799999999999|          1|          1|          1|          1|\n",
      "|    200001634757|            NULL|   NULL|   NULL|   NULL|   NULL|        NULL|              NULL|          0|          0|          0|          0|\n",
      "|    200003132410|            NULL|  498.1|  604.7|  505.4|  526.7|         700|            566.98|          1|          1|          1|          1|\n",
      "|    200001379770|            NULL|   NULL|   NULL|   NULL|   NULL|        NULL|              NULL|          0|          0|          0|          0|\n",
      "|    200001334237|            NULL|  604.6|  604.8|  562.1|  753.2|         600|            624.94|          1|          1|          1|          1|\n",
      "|    200006762554|            NULL|  439.7|  383.5|  486.2|  448.5|         600|471.58000000000004|          1|          1|          1|          1|\n",
      "|    200005146210|            NULL|   NULL|   NULL|   NULL|   NULL|        NULL|              NULL|          0|          0|          0|          0|\n",
      "|    200004902048|            NULL|   NULL|   NULL|   NULL|   NULL|        NULL|              NULL|          0|          0|          0|          0|\n",
      "|    200006138472|            NULL|  491.1|  631.4|  627.9|  546.5|         640|            587.38|          1|          1|          1|          1|\n",
      "|    200005613689|            NULL|   NULL|   NULL|   NULL|   NULL|        NULL|              NULL|          0|          0|          0|          0|\n",
      "|    200004833505|            NULL|   NULL|   NULL|   NULL|   NULL|        NULL|              NULL|          0|          0|          0|          0|\n",
      "|    200004570764|            NULL|   NULL|   NULL|   NULL|   NULL|        NULL|              NULL|          0|          0|          0|          0|\n",
      "|    200001071590|            NULL|   NULL|   NULL|   NULL|   NULL|        NULL|              NULL|          0|          0|          0|          0|\n",
      "|    200001934470|            NULL|   NULL|   NULL|   NULL|   NULL|        NULL|              NULL|          0|          0|          0|          0|\n",
      "|    200006066678|            NULL|   NULL|   NULL|   NULL|   NULL|        NULL|              NULL|          0|          0|          0|          0|\n",
      "|    200003343448|            NULL|  422.4|  488.1|  559.1|  420.3|         800|            537.98|          1|          1|          1|          1|\n",
      "|    200005966328|            NULL|  486.0|  503.3|  439.8|  405.6|         500|466.93999999999994|          1|          1|          1|          1|\n",
      "+----------------+----------------+-------+-------+-------+-------+------------+------------------+-----------+-----------+-----------+-----------+\n",
      "only showing top 20 rows\n",
      "\n"
     ]
    }
   ],
   "source": [
    "fato_enem.show()"
   ]
  },
  {
   "cell_type": "markdown",
   "metadata": {},
   "source": [
    "### LOAD"
   ]
  },
  {
   "cell_type": "code",
   "execution_count": 16,
   "metadata": {},
   "outputs": [],
   "source": [
    "parquet_path = r\"..\\database\\transformed\\dados_enem_parquet\"\n",
    "\n",
    "etl.load(dim_aluno, dim_escola, dim_municipio, fato_enem, parquet_path)"
   ]
  },
  {
   "cell_type": "markdown",
   "metadata": {},
   "source": [
    "### RESPONDENDO QUESTÕES"
   ]
  },
  {
   "cell_type": "code",
   "execution_count": 17,
   "metadata": {},
   "outputs": [],
   "source": [
    "answer = Answer(spark, dim_aluno, dim_escola, dim_municipio, fato_enem)"
   ]
  },
  {
   "cell_type": "code",
   "execution_count": 18,
   "metadata": {},
   "outputs": [],
   "source": [
    "\n",
    "# load answer\n",
    "top_school = answer.get_top_school()\n",
    "top_student = answer.get_top_student()\n",
    "average_score = answer.get_average_score()\n",
    "absent_percentage = answer.get_absent_percentage()\n",
    "total_students = answer.get_total_students()\n",
    "average_by_discipline = answer.get_average_by_discipline()\n",
    "average_by_gender = answer.get_average_by_gender()\n",
    "average_by_ethnicity = answer.get_average_by_ethnicity()"
   ]
  },
  {
   "cell_type": "markdown",
   "metadata": {},
   "source": [
    "##### 1. Qual a escola com a maior média de notas?"
   ]
  },
  {
   "cell_type": "code",
   "execution_count": 19,
   "metadata": {},
   "outputs": [
    {
     "name": "stdout",
     "output_type": "stream",
     "text": [
      "+-------------------+------+-----------------+\n",
      "|             escola|estado|     media_escola|\n",
      "+-------------------+------+-----------------+\n",
      "|Santana do Manhuaçu|    MG|706.5600000000001|\n",
      "+-------------------+------+-----------------+\n",
      "\n"
     ]
    }
   ],
   "source": [
    "top_school.show()"
   ]
  },
  {
   "cell_type": "markdown",
   "metadata": {},
   "source": [
    "##### 2. Qual o aluno com a maior média de notas e o valor dessa média?\n"
   ]
  },
  {
   "cell_type": "code",
   "execution_count": 20,
   "metadata": {},
   "outputs": [
    {
     "name": "stdout",
     "output_type": "stream",
     "text": [
      "+----------------+----+-----+-----------------+\n",
      "|numero_inscricao|sexo|etnia|      media_notas|\n",
      "+----------------+----+-----+-----------------+\n",
      "|    200005996961|   M|    1|858.5799999999999|\n",
      "+----------------+----+-----+-----------------+\n",
      "\n"
     ]
    }
   ],
   "source": [
    "top_student.show()"
   ]
  },
  {
   "cell_type": "markdown",
   "metadata": {},
   "source": [
    "##### 3. Qual a média geral?"
   ]
  },
  {
   "cell_type": "code",
   "execution_count": 21,
   "metadata": {},
   "outputs": [
    {
     "name": "stdout",
     "output_type": "stream",
     "text": [
      "+-----------------+\n",
      "|      media_geral|\n",
      "+-----------------+\n",
      "|526.5806802769449|\n",
      "+-----------------+\n",
      "\n"
     ]
    }
   ],
   "source": [
    "average_score.show()"
   ]
  },
  {
   "cell_type": "markdown",
   "metadata": {},
   "source": [
    "##### 4. Qual o % de Ausentes?\n"
   ]
  },
  {
   "cell_type": "code",
   "execution_count": 22,
   "metadata": {},
   "outputs": [
    {
     "name": "stdout",
     "output_type": "stream",
     "text": [
      "+-------------------+\n",
      "|percentual_ausentes|\n",
      "+-------------------+\n",
      "|  55.20821067007383|\n",
      "+-------------------+\n",
      "\n"
     ]
    }
   ],
   "source": [
    "absent_percentage.show()"
   ]
  },
  {
   "cell_type": "markdown",
   "metadata": {},
   "source": [
    "##### 5. Qual o número total de Inscritos?\n"
   ]
  },
  {
   "cell_type": "code",
   "execution_count": 23,
   "metadata": {},
   "outputs": [
    {
     "name": "stdout",
     "output_type": "stream",
     "text": [
      "+---------------+\n",
      "|total_inscritos|\n",
      "+---------------+\n",
      "|        5783109|\n",
      "+---------------+\n",
      "\n"
     ]
    }
   ],
   "source": [
    "total_students.show()"
   ]
  },
  {
   "cell_type": "markdown",
   "metadata": {},
   "source": [
    "##### 6. Qual a média por disciplina?\n"
   ]
  },
  {
   "cell_type": "code",
   "execution_count": 24,
   "metadata": {},
   "outputs": [
    {
     "name": "stdout",
     "output_type": "stream",
     "text": [
      "+----------------+-----------------+-----------------+-----------------+-----------------+\n",
      "|        media_CN|         media_CH|         media_LC|         media_MT|    media_redacao|\n",
      "+----------------+-----------------+-----------------+-----------------+-----------------+\n",
      "|490.534635128853|514.2869822121747|526.0192024818806|520.7272992307672|581.3352823310404|\n",
      "+----------------+-----------------+-----------------+-----------------+-----------------+\n",
      "\n"
     ]
    }
   ],
   "source": [
    "average_by_discipline.show()"
   ]
  },
  {
   "cell_type": "markdown",
   "metadata": {},
   "source": [
    "##### 7. Qual a média por Sexo?\n"
   ]
  },
  {
   "cell_type": "code",
   "execution_count": 25,
   "metadata": {},
   "outputs": [
    {
     "name": "stdout",
     "output_type": "stream",
     "text": [
      "+----+-----------------+\n",
      "|sexo|       media_sexo|\n",
      "+----+-----------------+\n",
      "|   F|521.2449112081382|\n",
      "|   M|534.7254885958835|\n",
      "+----+-----------------+\n",
      "\n"
     ]
    }
   ],
   "source": [
    "average_by_gender.show()"
   ]
  },
  {
   "cell_type": "markdown",
   "metadata": {},
   "source": [
    "##### 8. Qual a média por Etnia?"
   ]
  },
  {
   "cell_type": "code",
   "execution_count": 26,
   "metadata": {},
   "outputs": [
    {
     "name": "stdout",
     "output_type": "stream",
     "text": [
      "+-----+------------------+\n",
      "|etnia|       media_etnia|\n",
      "+-----+------------------+\n",
      "|    1|   556.52672213979|\n",
      "|    3| 508.6575016996888|\n",
      "|    5|472.84366774078046|\n",
      "|    4| 524.9384386151191|\n",
      "|    2|  500.868301996394|\n",
      "|    0|       534.0503396|\n",
      "+-----+------------------+\n",
      "\n"
     ]
    }
   ],
   "source": [
    "average_by_ethnicity.show()"
   ]
  },
  {
   "cell_type": "markdown",
   "metadata": {},
   "source": [
    "#### CONECTAR AO SQL"
   ]
  },
  {
   "cell_type": "markdown",
   "metadata": {},
   "source": [
    "##### PERSISTIR OS DADOS"
   ]
  },
  {
   "cell_type": "code",
   "execution_count": null,
   "metadata": {},
   "outputs": [],
   "source": [
    "load_to_mysql(dim_aluno, dim_escola, dim_municipio, fato_enem)"
   ]
  },
  {
   "cell_type": "code",
   "execution_count": null,
   "metadata": {},
   "outputs": [],
   "source": [
    "spark.stop()"
   ]
  }
 ],
 "metadata": {
  "kernelspec": {
   "display_name": "venv",
   "language": "python",
   "name": "python3"
  },
  "language_info": {
   "codemirror_mode": {
    "name": "ipython",
    "version": 3
   },
   "file_extension": ".py",
   "mimetype": "text/x-python",
   "name": "python",
   "nbconvert_exporter": "python",
   "pygments_lexer": "ipython3",
   "version": "3.12.6"
  }
 },
 "nbformat": 4,
 "nbformat_minor": 2
}